{
 "cells": [
  {
   "cell_type": "code",
   "execution_count": 1,
   "metadata": {},
   "outputs": [],
   "source": [
    "import numpy as np \n",
    "import pandas as pd \n",
    "from sklearn.feature_extraction.text import CountVectorizer"
   ]
  },
  {
   "cell_type": "markdown",
   "metadata": {},
   "source": [
    "# Data Treatment"
   ]
  },
  {
   "cell_type": "code",
   "execution_count": 2,
   "metadata": {},
   "outputs": [
    {
     "data": {
      "text/html": [
       "<div>\n",
       "<style scoped>\n",
       "    .dataframe tbody tr th:only-of-type {\n",
       "        vertical-align: middle;\n",
       "    }\n",
       "\n",
       "    .dataframe tbody tr th {\n",
       "        vertical-align: top;\n",
       "    }\n",
       "\n",
       "    .dataframe thead th {\n",
       "        text-align: right;\n",
       "    }\n",
       "</style>\n",
       "<table border=\"1\" class=\"dataframe\">\n",
       "  <thead>\n",
       "    <tr style=\"text-align: right;\">\n",
       "      <th></th>\n",
       "      <th>animeID</th>\n",
       "      <th>name</th>\n",
       "      <th>title_english</th>\n",
       "      <th>title_japanese</th>\n",
       "      <th>title_synonyms</th>\n",
       "      <th>type</th>\n",
       "      <th>source</th>\n",
       "      <th>producers</th>\n",
       "      <th>genre</th>\n",
       "      <th>studio</th>\n",
       "      <th>...</th>\n",
       "      <th>scored_by</th>\n",
       "      <th>rank</th>\n",
       "      <th>popularity</th>\n",
       "      <th>members</th>\n",
       "      <th>favorites</th>\n",
       "      <th>synopsis</th>\n",
       "      <th>background</th>\n",
       "      <th>premiered</th>\n",
       "      <th>broadcast</th>\n",
       "      <th>related</th>\n",
       "    </tr>\n",
       "  </thead>\n",
       "  <tbody>\n",
       "    <tr>\n",
       "      <th>0</th>\n",
       "      <td>1</td>\n",
       "      <td>Cowboy Bebop</td>\n",
       "      <td>Cowboy Bebop</td>\n",
       "      <td>カウボーイビバップ</td>\n",
       "      <td>[]</td>\n",
       "      <td>TV</td>\n",
       "      <td>Original</td>\n",
       "      <td>['Bandai Visual']</td>\n",
       "      <td>['Action', 'Adventure', 'Comedy', 'Drama', 'Sc...</td>\n",
       "      <td>['Sunrise']</td>\n",
       "      <td>...</td>\n",
       "      <td>405664.0</td>\n",
       "      <td>26.0</td>\n",
       "      <td>39.0</td>\n",
       "      <td>795733.0</td>\n",
       "      <td>43460.0</td>\n",
       "      <td>In the year 2071, humanity has colonized sever...</td>\n",
       "      <td>When Cowboy Bebop first aired in spring of 199...</td>\n",
       "      <td>Spring 1998</td>\n",
       "      <td>Saturdays at 01:00 (JST)</td>\n",
       "      <td>{'Adaptation': [{'mal_id': 173, 'type': 'manga...</td>\n",
       "    </tr>\n",
       "    <tr>\n",
       "      <th>1</th>\n",
       "      <td>5</td>\n",
       "      <td>Cowboy Bebop: Tengoku no Tobira</td>\n",
       "      <td>Cowboy Bebop: The Movie</td>\n",
       "      <td>カウボーイビバップ 天国の扉</td>\n",
       "      <td>[\"Cowboy Bebop: Knockin' on Heaven's Door\"]</td>\n",
       "      <td>Movie</td>\n",
       "      <td>Original</td>\n",
       "      <td>['Sunrise', 'Bandai Visual']</td>\n",
       "      <td>['Action', 'Drama', 'Mystery', 'Sci-Fi', 'Space']</td>\n",
       "      <td>['Bones']</td>\n",
       "      <td>...</td>\n",
       "      <td>120243.0</td>\n",
       "      <td>164.0</td>\n",
       "      <td>449.0</td>\n",
       "      <td>197791.0</td>\n",
       "      <td>776.0</td>\n",
       "      <td>Another day, another bounty—such is the life o...</td>\n",
       "      <td>NaN</td>\n",
       "      <td>NaN</td>\n",
       "      <td>NaN</td>\n",
       "      <td>{'Parent story': [{'mal_id': 1, 'type': 'anime...</td>\n",
       "    </tr>\n",
       "    <tr>\n",
       "      <th>2</th>\n",
       "      <td>6</td>\n",
       "      <td>Trigun</td>\n",
       "      <td>Trigun</td>\n",
       "      <td>トライガン</td>\n",
       "      <td>[]</td>\n",
       "      <td>TV</td>\n",
       "      <td>Manga</td>\n",
       "      <td>['Victor Entertainment']</td>\n",
       "      <td>['Action', 'Sci-Fi', 'Adventure', 'Comedy', 'D...</td>\n",
       "      <td>['Madhouse']</td>\n",
       "      <td>...</td>\n",
       "      <td>212537.0</td>\n",
       "      <td>255.0</td>\n",
       "      <td>146.0</td>\n",
       "      <td>408548.0</td>\n",
       "      <td>10432.0</td>\n",
       "      <td>Vash the Stampede is the man with a $$60,000,0...</td>\n",
       "      <td>The Japanese release by Victor Entertainment h...</td>\n",
       "      <td>Spring 1998</td>\n",
       "      <td>Thursdays at 01:15 (JST)</td>\n",
       "      <td>{'Adaptation': [{'mal_id': 703, 'type': 'manga...</td>\n",
       "    </tr>\n",
       "    <tr>\n",
       "      <th>3</th>\n",
       "      <td>7</td>\n",
       "      <td>Witch Hunter Robin</td>\n",
       "      <td>Witch Hunter Robin</td>\n",
       "      <td>Witch Hunter ROBIN</td>\n",
       "      <td>['WHR']</td>\n",
       "      <td>TV</td>\n",
       "      <td>Original</td>\n",
       "      <td>['Bandai Visual']</td>\n",
       "      <td>['Action', 'Magic', 'Police', 'Supernatural', ...</td>\n",
       "      <td>['Sunrise']</td>\n",
       "      <td>...</td>\n",
       "      <td>32837.0</td>\n",
       "      <td>2371.0</td>\n",
       "      <td>1171.0</td>\n",
       "      <td>79397.0</td>\n",
       "      <td>537.0</td>\n",
       "      <td>Witches are individuals with special powers li...</td>\n",
       "      <td>NaN</td>\n",
       "      <td>Summer 2002</td>\n",
       "      <td>Tuesdays at Unknown</td>\n",
       "      <td>{}</td>\n",
       "    </tr>\n",
       "    <tr>\n",
       "      <th>4</th>\n",
       "      <td>8</td>\n",
       "      <td>Bouken Ou Beet</td>\n",
       "      <td>Beet the Vandel Buster</td>\n",
       "      <td>冒険王ビィト</td>\n",
       "      <td>['Adventure King Beet']</td>\n",
       "      <td>TV</td>\n",
       "      <td>Manga</td>\n",
       "      <td>['TV Tokyo', 'Dentsu']</td>\n",
       "      <td>['Adventure', 'Fantasy', 'Shounen', 'Supernatu...</td>\n",
       "      <td>['Toei Animation']</td>\n",
       "      <td>...</td>\n",
       "      <td>4894.0</td>\n",
       "      <td>3544.0</td>\n",
       "      <td>3704.0</td>\n",
       "      <td>11708.0</td>\n",
       "      <td>14.0</td>\n",
       "      <td>It is the dark century and the people are suff...</td>\n",
       "      <td>NaN</td>\n",
       "      <td>Fall 2004</td>\n",
       "      <td>Thursdays at 18:30 (JST)</td>\n",
       "      <td>{'Adaptation': [{'mal_id': 1348, 'type': 'mang...</td>\n",
       "    </tr>\n",
       "  </tbody>\n",
       "</table>\n",
       "<p>5 rows × 27 columns</p>\n",
       "</div>"
      ],
      "text/plain": [
       "   animeID                             name            title_english  \\\n",
       "0        1                     Cowboy Bebop             Cowboy Bebop   \n",
       "1        5  Cowboy Bebop: Tengoku no Tobira  Cowboy Bebop: The Movie   \n",
       "2        6                           Trigun                   Trigun   \n",
       "3        7               Witch Hunter Robin       Witch Hunter Robin   \n",
       "4        8                   Bouken Ou Beet   Beet the Vandel Buster   \n",
       "\n",
       "       title_japanese                               title_synonyms   type  \\\n",
       "0           カウボーイビバップ                                           []     TV   \n",
       "1      カウボーイビバップ 天国の扉  [\"Cowboy Bebop: Knockin' on Heaven's Door\"]  Movie   \n",
       "2               トライガン                                           []     TV   \n",
       "3  Witch Hunter ROBIN                                      ['WHR']     TV   \n",
       "4              冒険王ビィト                      ['Adventure King Beet']     TV   \n",
       "\n",
       "     source                     producers  \\\n",
       "0  Original             ['Bandai Visual']   \n",
       "1  Original  ['Sunrise', 'Bandai Visual']   \n",
       "2     Manga      ['Victor Entertainment']   \n",
       "3  Original             ['Bandai Visual']   \n",
       "4     Manga        ['TV Tokyo', 'Dentsu']   \n",
       "\n",
       "                                               genre              studio  ...  \\\n",
       "0  ['Action', 'Adventure', 'Comedy', 'Drama', 'Sc...         ['Sunrise']  ...   \n",
       "1  ['Action', 'Drama', 'Mystery', 'Sci-Fi', 'Space']           ['Bones']  ...   \n",
       "2  ['Action', 'Sci-Fi', 'Adventure', 'Comedy', 'D...        ['Madhouse']  ...   \n",
       "3  ['Action', 'Magic', 'Police', 'Supernatural', ...         ['Sunrise']  ...   \n",
       "4  ['Adventure', 'Fantasy', 'Shounen', 'Supernatu...  ['Toei Animation']  ...   \n",
       "\n",
       "    scored_by    rank  popularity   members  favorites  \\\n",
       "0    405664.0    26.0        39.0  795733.0    43460.0   \n",
       "1    120243.0   164.0       449.0  197791.0      776.0   \n",
       "2    212537.0   255.0       146.0  408548.0    10432.0   \n",
       "3     32837.0  2371.0      1171.0   79397.0      537.0   \n",
       "4      4894.0  3544.0      3704.0   11708.0       14.0   \n",
       "\n",
       "                                            synopsis  \\\n",
       "0  In the year 2071, humanity has colonized sever...   \n",
       "1  Another day, another bounty—such is the life o...   \n",
       "2  Vash the Stampede is the man with a $$60,000,0...   \n",
       "3  Witches are individuals with special powers li...   \n",
       "4  It is the dark century and the people are suff...   \n",
       "\n",
       "                                          background    premiered  \\\n",
       "0  When Cowboy Bebop first aired in spring of 199...  Spring 1998   \n",
       "1                                                NaN          NaN   \n",
       "2  The Japanese release by Victor Entertainment h...  Spring 1998   \n",
       "3                                                NaN  Summer 2002   \n",
       "4                                                NaN    Fall 2004   \n",
       "\n",
       "                  broadcast                                            related  \n",
       "0  Saturdays at 01:00 (JST)  {'Adaptation': [{'mal_id': 173, 'type': 'manga...  \n",
       "1                       NaN  {'Parent story': [{'mal_id': 1, 'type': 'anime...  \n",
       "2  Thursdays at 01:15 (JST)  {'Adaptation': [{'mal_id': 703, 'type': 'manga...  \n",
       "3       Tuesdays at Unknown                                                 {}  \n",
       "4  Thursdays at 18:30 (JST)  {'Adaptation': [{'mal_id': 1348, 'type': 'mang...  \n",
       "\n",
       "[5 rows x 27 columns]"
      ]
     },
     "execution_count": 2,
     "metadata": {},
     "output_type": "execute_result"
    }
   ],
   "source": [
    "data=pd.read_csv('Anime.csv')\n",
    "data.head()"
   ]
  },
  {
   "cell_type": "markdown",
   "metadata": {},
   "source": [
    "# Genre Treatment"
   ]
  },
  {
   "cell_type": "code",
   "execution_count": 3,
   "metadata": {},
   "outputs": [
    {
     "name": "stderr",
     "output_type": "stream",
     "text": [
      "C:\\Users\\Denny\\Anaconda3\\lib\\site-packages\\ipykernel_launcher.py:2: SettingWithCopyWarning: \n",
      "A value is trying to be set on a copy of a slice from a DataFrame.\n",
      "Try using .loc[row_indexer,col_indexer] = value instead\n",
      "\n",
      "See the caveats in the documentation: http://pandas.pydata.org/pandas-docs/stable/indexing.html#indexing-view-versus-copy\n",
      "  \n"
     ]
    },
    {
     "data": {
      "text/html": [
       "<div>\n",
       "<style scoped>\n",
       "    .dataframe tbody tr th:only-of-type {\n",
       "        vertical-align: middle;\n",
       "    }\n",
       "\n",
       "    .dataframe tbody tr th {\n",
       "        vertical-align: top;\n",
       "    }\n",
       "\n",
       "    .dataframe thead th {\n",
       "        text-align: right;\n",
       "    }\n",
       "</style>\n",
       "<table border=\"1\" class=\"dataframe\">\n",
       "  <thead>\n",
       "    <tr style=\"text-align: right;\">\n",
       "      <th></th>\n",
       "      <th>name</th>\n",
       "      <th>genre</th>\n",
       "    </tr>\n",
       "  </thead>\n",
       "  <tbody>\n",
       "    <tr>\n",
       "      <th>0</th>\n",
       "      <td>Cowboy Bebop</td>\n",
       "      <td>Action, Adventure, Comedy, Drama, Sci-Fi, Space</td>\n",
       "    </tr>\n",
       "    <tr>\n",
       "      <th>1</th>\n",
       "      <td>Cowboy Bebop: Tengoku no Tobira</td>\n",
       "      <td>Action, Drama, Mystery, Sci-Fi, Space</td>\n",
       "    </tr>\n",
       "    <tr>\n",
       "      <th>2</th>\n",
       "      <td>Trigun</td>\n",
       "      <td>Action, Sci-Fi, Adventure, Comedy, Drama, Shounen</td>\n",
       "    </tr>\n",
       "    <tr>\n",
       "      <th>3</th>\n",
       "      <td>Witch Hunter Robin</td>\n",
       "      <td>Action, Magic, Police, Supernatural, Drama, My...</td>\n",
       "    </tr>\n",
       "    <tr>\n",
       "      <th>4</th>\n",
       "      <td>Bouken Ou Beet</td>\n",
       "      <td>Adventure, Fantasy, Shounen, Supernatural</td>\n",
       "    </tr>\n",
       "  </tbody>\n",
       "</table>\n",
       "</div>"
      ],
      "text/plain": [
       "                              name  \\\n",
       "0                     Cowboy Bebop   \n",
       "1  Cowboy Bebop: Tengoku no Tobira   \n",
       "2                           Trigun   \n",
       "3               Witch Hunter Robin   \n",
       "4                   Bouken Ou Beet   \n",
       "\n",
       "                                               genre  \n",
       "0    Action, Adventure, Comedy, Drama, Sci-Fi, Space  \n",
       "1              Action, Drama, Mystery, Sci-Fi, Space  \n",
       "2  Action, Sci-Fi, Adventure, Comedy, Drama, Shounen  \n",
       "3  Action, Magic, Police, Supernatural, Drama, My...  \n",
       "4          Adventure, Fantasy, Shounen, Supernatural  "
      ]
     },
     "execution_count": 3,
     "metadata": {},
     "output_type": "execute_result"
    }
   ],
   "source": [
    "df=data[[' name',' genre']]\n",
    "df[' genre']=df[' genre'].apply(lambda i: str(i).replace('[','').replace(']','').replace(\"'\",''))\n",
    "df.head()"
   ]
  },
  {
   "cell_type": "markdown",
   "metadata": {},
   "source": [
    "# CountVectorizer"
   ]
  },
  {
   "cell_type": "code",
   "execution_count": 4,
   "metadata": {},
   "outputs": [
    {
     "name": "stdout",
     "output_type": "stream",
     "text": [
      "  (0, 35)\t1\n",
      "  (0, 28)\t1\n",
      "  (0, 6)\t1\n",
      "  (0, 3)\t1\n",
      "  (0, 1)\t1\n",
      "  (0, 43)\t1\n",
      "  (1, 21)\t1\n",
      "  (1, 35)\t1\n",
      "  (1, 28)\t1\n",
      "  (1, 6)\t1\n",
      "  (1, 43)\t1\n",
      "  (2, 32)\t1\n",
      "  (2, 28)\t1\n",
      "  (2, 6)\t1\n",
      "  (2, 3)\t1\n",
      "  (2, 1)\t1\n",
      "  (2, 43)\t1\n",
      "  (3, 38)\t1\n",
      "  (3, 23)\t1\n",
      "  (3, 16)\t1\n",
      "  (3, 21)\t1\n",
      "  (3, 6)\t1\n",
      "  (3, 43)\t1\n",
      "  (4, 8)\t1\n",
      "  (4, 44)\t1\n",
      "  :\t:\n",
      "  (15267, 3)\t1\n",
      "  (15267, 43)\t1\n",
      "  (15268, 43)\t1\n",
      "  (15269, 46)\t1\n",
      "  (15270, 51)\t1\n",
      "  (15271, 51)\t1\n",
      "  (15272, 46)\t1\n",
      "  (15272, 32)\t1\n",
      "  (15273, 24)\t1\n",
      "  (15273, 76)\t1\n",
      "  (15273, 32)\t1\n",
      "  (15273, 6)\t1\n",
      "  (15274, 5)\t1\n",
      "  (15274, 46)\t1\n",
      "  (15274, 8)\t1\n",
      "  (15274, 38)\t1\n",
      "  (15274, 32)\t1\n",
      "  (15275, 34)\t1\n",
      "  (15275, 44)\t1\n",
      "  (15276, 32)\t1\n",
      "  (15276, 35)\t1\n",
      "  (15276, 28)\t1\n",
      "  (15276, 43)\t1\n",
      "  (15277, 51)\t1\n",
      "  (15277, 32)\t1\n"
     ]
    }
   ],
   "source": [
    "cov=CountVectorizer(\n",
    "    tokenizer=lambda i: i.split(',')\n",
    ")\n",
    "datamx=cov.fit_transform(df[' genre'])\n",
    "print(datamx)"
   ]
  },
  {
   "cell_type": "markdown",
   "metadata": {},
   "source": [
    "# Cosine Similarity"
   ]
  },
  {
   "cell_type": "code",
   "execution_count": 5,
   "metadata": {},
   "outputs": [],
   "source": [
    "from sklearn.metrics.pairwise import cosine_similarity "
   ]
  },
  {
   "cell_type": "code",
   "execution_count": 6,
   "metadata": {},
   "outputs": [
    {
     "data": {
      "text/plain": [
       "array([[1.        , 0.73029674, 0.83333333, ..., 0.        , 0.61237244,\n",
       "        0.        ],\n",
       "       [0.73029674, 1.        , 0.54772256, ..., 0.        , 0.67082039,\n",
       "        0.        ],\n",
       "       [0.83333333, 0.54772256, 1.        , ..., 0.        , 0.61237244,\n",
       "        0.28867513],\n",
       "       ...,\n",
       "       [0.        , 0.        , 0.        , ..., 1.        , 0.        ,\n",
       "        0.        ],\n",
       "       [0.61237244, 0.67082039, 0.61237244, ..., 0.        , 1.        ,\n",
       "        0.35355339],\n",
       "       [0.        , 0.        , 0.28867513, ..., 0.        , 0.35355339,\n",
       "        1.        ]])"
      ]
     },
     "execution_count": 6,
     "metadata": {},
     "output_type": "execute_result"
    }
   ],
   "source": [
    "skorKesamaan=cosine_similarity(datamx)\n",
    "skorKesamaan"
   ]
  },
  {
   "cell_type": "markdown",
   "metadata": {},
   "source": [
    "# Save to Pickle"
   ]
  },
  {
   "cell_type": "code",
   "execution_count": 9,
   "metadata": {},
   "outputs": [],
   "source": [
    "import pickle"
   ]
  },
  {
   "cell_type": "code",
   "execution_count": 11,
   "metadata": {},
   "outputs": [],
   "source": [
    "with open('cosineSimilarity.pkl','wb') as x:\n",
    "    pickle.dump(skorKesamaan,x)"
   ]
  },
  {
   "cell_type": "markdown",
   "metadata": {},
   "source": [
    "# Test Output"
   ]
  },
  {
   "cell_type": "code",
   "execution_count": 7,
   "metadata": {},
   "outputs": [
    {
     "data": {
      "text/plain": [
       "9"
      ]
     },
     "execution_count": 7,
     "metadata": {},
     "output_type": "execute_result"
    }
   ],
   "source": [
    "suka='Naruto'\n",
    "indexsuka=df[df[' name']==suka].index.values[0]\n",
    "indexsuka"
   ]
  },
  {
   "cell_type": "code",
   "execution_count": 8,
   "metadata": {},
   "outputs": [
    {
     "data": {
      "text/plain": [
       "[(9, 1.0000000000000002),\n",
       " (1480, 1.0000000000000002),\n",
       " (12605, 1.0000000000000002),\n",
       " (684, 0.9258200997725515),\n",
       " (768, 0.9258200997725515),\n",
       " (838, 0.9258200997725515),\n",
       " (4224, 0.9258200997725515),\n",
       " (4511, 0.9258200997725515),\n",
       " (8547, 0.9258200997725515),\n",
       " (8559, 0.9258200997725515)]"
      ]
     },
     "execution_count": 8,
     "metadata": {},
     "output_type": "execute_result"
    }
   ],
   "source": [
    "filmscore=list(enumerate(skorKesamaan[indexsuka]))\n",
    "sortfilm=sorted(filmscore,key=lambda i:i[1],reverse=True)\n",
    "sortfilm[:10]"
   ]
  },
  {
   "cell_type": "code",
   "execution_count": 9,
   "metadata": {},
   "outputs": [
    {
     "name": "stdout",
     "output_type": "stream",
     "text": [
      "Naruto 1.0000000000000002\n",
      "Action, Adventure, Comedy, Super Power, Martial Arts, Shounen 1.0000000000000002\n",
      "Naruto: Shippuuden 1.0000000000000002\n",
      "Action, Adventure, Comedy, Super Power, Martial Arts, Shounen 1.0000000000000002\n",
      "Boruto: Jump Festa 2016 Special 1.0000000000000002\n",
      "Action, Adventure, Comedy, Super Power, Martial Arts, Shounen 1.0000000000000002\n",
      "Dragon Ball Z 0.9258200997725515\n",
      "Action, Adventure, Comedy, Fantasy, Martial Arts, Shounen, Super Power 0.9258200997725515\n",
      "Dragon Ball Z Movie 11: Super Senshi Gekiha!! Katsu no wa Ore da 0.9258200997725515\n",
      "Action, Adventure, Comedy, Fantasy, Martial Arts, Shounen, Super Power 0.9258200997725515\n",
      "Dragon Ball GT: Gokuu Gaiden! Yuuki no Akashi wa Suushinchuu 0.9258200997725515\n",
      "Action, Adventure, Comedy, Super Power, Martial Arts, Fantasy, Shounen 0.9258200997725515\n",
      "Dragon Ball Kai 0.9258200997725515\n",
      "Action, Adventure, Comedy, Fantasy, Martial Arts, Shounen, Super Power 0.9258200997725515\n",
      "Dragon Ball Z: Atsumare! Gokuu World 0.9258200997725515\n",
      "Action, Adventure, Comedy, Super Power, Martial Arts, Fantasy, Shounen 0.9258200997725515\n",
      "Dragon Ball Z: Summer Vacation Special 0.9258200997725515\n",
      "Action, Adventure, Comedy, Super Power, Martial Arts, Fantasy, Shounen 0.9258200997725515\n",
      "Dragon Ball Kai (2014) 0.9258200997725515\n",
      "Action, Adventure, Comedy, Fantasy, Martial Arts, Shounen, Super Power 0.9258200997725515\n"
     ]
    }
   ],
   "source": [
    "for item in sortfilm[:10]:\n",
    "    print(df.iloc[item[0]][' name'],item[1])\n",
    "    print(df.iloc[item[0]][' genre'],item[1])"
   ]
  },
  {
   "cell_type": "code",
   "execution_count": null,
   "metadata": {},
   "outputs": [],
   "source": []
  },
  {
   "cell_type": "code",
   "execution_count": null,
   "metadata": {},
   "outputs": [],
   "source": []
  }
 ],
 "metadata": {
  "kernelspec": {
   "display_name": "Python 3",
   "language": "python",
   "name": "python3"
  },
  "language_info": {
   "codemirror_mode": {
    "name": "ipython",
    "version": 3
   },
   "file_extension": ".py",
   "mimetype": "text/x-python",
   "name": "python",
   "nbconvert_exporter": "python",
   "pygments_lexer": "ipython3",
   "version": "3.7.3"
  }
 },
 "nbformat": 4,
 "nbformat_minor": 2
}
